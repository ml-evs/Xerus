{
 "cells": [
  {
   "cell_type": "code",
   "execution_count": 15,
   "metadata": {},
   "outputs": [
    {
     "data": {
      "application/vnd.jupyter.widget-view+json": {
       "model_id": "b3e1c79582114c86995c0c448bfd0d90",
       "version_major": 2,
       "version_minor": 0
      },
      "text/plain": [
       "Retrieving SummaryDoc documents:   0%|          | 0/3 [00:00<?, ?it/s]"
      ]
     },
     "metadata": {},
     "output_type": "display_data"
    },
    {
     "name": "stdout",
     "output_type": "stream",
     "text": [
      "  formula_pretty material_id  \\\n",
      "0             Ho      mp-144   \n",
      "1             Ho    mp-10765   \n",
      "2             Ho    mp-10659   \n",
      "\n",
      "                                           structure  energy_above_hull  \\\n",
      "0  [[1.804377   1.04175942 1.394382  ] Ho, [ 1.80...           0.010344   \n",
      "1                                    [[0. 0. 0.] Ho]           0.023659   \n",
      "2  [[0. 0. 0.] Ho, [19.82845505  0.          2.37...           0.000000   \n",
      "\n",
      "   theoretical                               fields_not_requested  \n",
      "0        False  [builder_meta, nsites, elements, nelements, co...  \n",
      "1        False  [builder_meta, nsites, elements, nelements, co...  \n",
      "2        False  [builder_meta, nsites, elements, nelements, co...  \n"
     ]
    }
   ],
   "source": [
    "import os\n",
    "import sys\n",
    "from pathlib import Path\n",
    "import mp_api\n",
    "from pymatgen.ext.matproj import MPRester\n",
    "from pymatgen.io.cif import CifWriter\n",
    "from Xerus.utils.cifutils import make_combinations\n",
    "from Xerus.settings.settings import MP_API_KEY\n",
    "import os\n",
    "import pandas as pd\n",
    "from typing import Tuple, List\n",
    "dump_folder = \"mp_dump/\"\n",
    "\n",
    "def make_cifs(data: pd.DataFrame, symprec: float = 1e-2, folder_path: os.PathLike = dump_folder) -> None:\n",
    "    \"\"\"\n",
    "    Write CIFs from data queried from Materials Project into a folder\n",
    "    Parameters\n",
    "    ----------\n",
    "    data : A pandas dataframe containing the material id, formula and structure information\n",
    "    symprec : Spglib symprec tolerance to find spacegroups (read pymatgen documentation for more detail)\n",
    "    folder_path : Folder to save.\n",
    "    Returns\n",
    "    -------\n",
    "    None\n",
    "    \"\"\"\n",
    "    if not os.path.isdir(folder_path):\n",
    "        os.mkdir(folder_path)\n",
    "    for mid, name, struc in zip(data['material_id'], data['formula_pretty'], data.structure):\n",
    "        writer = CifWriter(struc, symprec=symprec)\n",
    "        filename = folder_path + os.sep + name + \"_\" + \"MP_\" + mid + \".cif\"\n",
    "\n",
    "        if name != 'O2':\n",
    "            writer.write_file(filename)\n",
    "            print(\"Writing {}\".format(filename))\n",
    "\n",
    "api_key: str = MP_API_KEY\n",
    "write: bool =True\n",
    "testa = [\"Ho\"]\n",
    "testb = [\"B\"]\n",
    "testc = [\"Ho-B\"]\n",
    "inc_eles: List[str] = testa\n",
    "min_hull: float = 1e-4\n",
    "min_hull = 0.1\n",
    "folder_path: os.PathLike = dump_folder\n",
    "\n",
    "properties = ['formula_pretty',  'material_id',  'structure',  'energy_above_hull',  'theoretical', 'fields_not_requested']\n",
    "\n",
    "mpr = MPRester(api_key)     \n",
    "datas = mpr.summary.search( chemsys=inc_eles,\n",
    "                            fields = properties, \n",
    "                            theoretical = False, \n",
    "                            energy_above_hull = ( 0, min_hull))\n",
    "if \"pytest\" in sys.modules:\n",
    "    datadf = datas\n",
    "else:\n",
    "    datadf = [data.dict() for data in datas]\n",
    "datadf = pd.DataFrame(datadf)\n",
    "# # datadf = datadf.set_axis(properties, axis='columns')\n",
    "# if len(datadf) == 0:\n",
    "#     print('No data.')\n",
    "# if write:\n",
    "#     make_cifs(datadf, folder_path=folder_path)\n",
    "print(datadf)\n"
   ]
  },
  {
   "cell_type": "code",
   "execution_count": 1,
   "metadata": {},
   "outputs": [
    {
     "ename": "NameError",
     "evalue": "name 'MP_API_KEY' is not defined",
     "output_type": "error",
     "traceback": [
      "\u001b[0;31m---------------------------------------------------------------------------\u001b[0m",
      "\u001b[0;31mNameError\u001b[0m                                 Traceback (most recent call last)",
      "\u001b[0;32m/tmp/ipykernel_956311/3681890794.py\u001b[0m in \u001b[0;36m<module>\u001b[0;34m\u001b[0m\n\u001b[1;32m      3\u001b[0m \u001b[0;31m#             folder_path: os.PathLike = dump_folder) -> pd.DataFrame:\u001b[0m\u001b[0;34m\u001b[0m\u001b[0;34m\u001b[0m\u001b[0;34m\u001b[0m\u001b[0m\n\u001b[1;32m      4\u001b[0m \u001b[0;34m\u001b[0m\u001b[0m\n\u001b[0;32m----> 5\u001b[0;31m \u001b[0mapi_key\u001b[0m\u001b[0;34m:\u001b[0m \u001b[0mstr\u001b[0m \u001b[0;34m=\u001b[0m \u001b[0mMP_API_KEY\u001b[0m\u001b[0;34m\u001b[0m\u001b[0;34m\u001b[0m\u001b[0m\n\u001b[0m\u001b[1;32m      6\u001b[0m \u001b[0mwrite\u001b[0m\u001b[0;34m:\u001b[0m \u001b[0mbool\u001b[0m \u001b[0;34m=\u001b[0m\u001b[0;32mTrue\u001b[0m\u001b[0;34m\u001b[0m\u001b[0;34m\u001b[0m\u001b[0m\n\u001b[1;32m      7\u001b[0m \u001b[0mtesta\u001b[0m \u001b[0;34m=\u001b[0m \u001b[0;34m[\u001b[0m\u001b[0;34m\"Ho\"\u001b[0m\u001b[0;34m]\u001b[0m\u001b[0;34m\u001b[0m\u001b[0;34m\u001b[0m\u001b[0m\n",
      "\u001b[0;31mNameError\u001b[0m: name 'MP_API_KEY' is not defined"
     ]
    }
   ],
   "source": [
    "from mp_api.client import MPRester\n",
    "# def querymp(inc_eles: List[str], max_num_elem:int = 3, min_hull: float = 1e-4,\n",
    "#             folder_path: os.PathLike = dump_folder) -> pd.DataFrame:\n",
    "\n",
    "api_key: str = MP_API_KEY\n",
    "write: bool =True\n",
    "testa = [\"Ho\"]\n",
    "testb = [\"B\"]\n",
    "testc = [\"Ho-B\"]\n",
    "inc_eles: List[str] = testa\n",
    "min_hull: float = 1e-4\n",
    "properties = ['formula_pretty',  'material_id',  'structure',  'energy_above_hull',  'theoretical']\n",
    "cifs = ['pretty_formula', 'material_id', 'structure', 'e_above_hull', 'theoretical', 'fields_not_requested']\n",
    "min_hull = 0.1\n",
    "\n",
    "with MPRester(api_key) as mpr:    \n",
    "    datas = mpr.summary.search( chemsys=inc_eles,\n",
    "                                fields = properties, \n",
    "                                theoretical = False, \n",
    "                                energy_above_hull = ( 0, min_hull))\n",
    "    datadf = [data.dict() for data in datas]\n",
    "    datadf = pd.DataFrame(datadf)\n",
    "    print(datadf)\n",
    "    # datadf = datadf.drop(columns = ['fields_not_requested'])\n",
    "    datadf = datadf.set_axis(cifs, axis='columns')\n",
    "    \n",
    "if len(datadf) == 0:\n",
    "    print(\"no data\")\n",
    "if write:\n",
    "    print(datadf)\n",
    "    make_cifs(datadf, folder_path=folder_path)"
   ]
  },
  {
   "cell_type": "code",
   "execution_count": null,
   "metadata": {},
   "outputs": [],
   "source": [
    "mongosh\n",
    "show databases\n",
    "use <databasename>\n",
    "db.dropDatabase()"
   ]
  },
  {
   "cell_type": "markdown",
   "metadata": {},
   "source": [
    "===\n",
    "\n",
    "properties = ['formula_pretty',  'structure',  'theoretical',  'material_id',  'energy_above_hull']\n",
    "\n",
    "Idea is: e_bove_hull <= min_hull\n",
    "\n",
    "min_hull should be set to 0.1 in the query mp\n",
    "\n",
    "no theoretical structure (theoritcal = False)"
   ]
  }
 ],
 "metadata": {
  "kernelspec": {
   "display_name": "Python 3.8.0 ('Xerus')",
   "language": "python",
   "name": "python3"
  },
  "language_info": {
   "codemirror_mode": {
    "name": "ipython",
    "version": 3
   },
   "file_extension": ".py",
   "mimetype": "text/x-python",
   "name": "python",
   "nbconvert_exporter": "python",
   "pygments_lexer": "ipython3",
   "version": "3.8.0"
  },
  "orig_nbformat": 4,
  "vscode": {
   "interpreter": {
    "hash": "d747c540b2ef1187547e02a0646abffb1e89b7e44ec5826872010d8e75b1cbcf"
   }
  }
 },
 "nbformat": 4,
 "nbformat_minor": 2
}
